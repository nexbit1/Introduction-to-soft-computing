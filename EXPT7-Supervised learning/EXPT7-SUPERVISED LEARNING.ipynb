{
 "cells": [
  {
   "cell_type": "code",
   "execution_count": null,
   "id": "a661fd33",
   "metadata": {},
   "outputs": [],
   "source": [
    "import numpy as np"
   ]
  },
  {
   "cell_type": "code",
   "execution_count": null,
   "id": "56cd33b0",
   "metadata": {},
   "outputs": [],
   "source": [
    "training_inputs = np.array([[1, -2, 0, -1], [0, 1.5, -0.5, -1], [-1, 1, 0.5, -1]])\n",
    "weights = np.array([1, -1, 0, 0.5])  #np.random.rand(x, no. of columns)for decimal numbers(no -ve)\n",
    "d = np.array([-1, -1, 1])            #np.random.randint(-x, x, no. of colums)for integers\n",
    "print('Training Inputs:\\n', training_inputs)\n",
    "print('Initial weights:\\n', weights)\n",
    "print('d:\\n', d)"
   ]
  },
  {
   "cell_type": "code",
   "execution_count": null,
   "id": "4113591a",
   "metadata": {},
   "outputs": [],
   "source": [
    "def bipolar_sigmoid(net):\n",
    "    return round((1 - np.exp(-net)) / (1 + np.exp(-net)), 3)\n",
    "\n",
    "def fnet_(x):#for bipolar_sigmoid          #for unipolar_sigmoid x(1-x)\n",
    "    return round(((1 - x ** 2) / 2), 3)"
   ]
  },
  {
   "cell_type": "code",
   "execution_count": null,
   "id": "e19fde1e",
   "metadata": {},
   "outputs": [],
   "source": [
    "c = 0.1\n",
    "for count in range(5000): #trained 500 times\n",
    "    for i in range(len(training_inputs)): #0r do enumerate or zip from iterablemodule😉\n",
    "        fnet = bipolar_sigmoid(np.dot(training_inputs[i], weights))\n",
    "        fnet__ = fnet_(fnet)\n",
    "        del_w = c * fnet__ * np.dot(training_inputs[i],d[i]-fnet)\n",
    "        weights += del_w\n",
    "    print(f'ITERATION {count + 1}:', weights)       "
   ]
  },
  {
   "cell_type": "code",
   "execution_count": null,
   "id": "1bcfd522",
   "metadata": {},
   "outputs": [],
   "source": [
    "#testing model for user input\n",
    "weights = [-2.8940211 , -0.1778251, 2.81203915, 1.1965985 ]\n",
    "user_input = [float(input('Enter Your Input: ')) for _ in range(4)]\n",
    "input_by_user = np.array(user_input)\n",
    "print(input_by_user)"
   ]
  },
  {
   "cell_type": "code",
   "execution_count": null,
   "id": "3ea6bb8b",
   "metadata": {},
   "outputs": [],
   "source": [
    "output = bipolar_sigmoid(np.dot(input_by_user, weights))\n",
    "print(f'OUTPUT CALCULATED: {output}')\n"
   ]
  },
  {
   "cell_type": "code",
   "execution_count": null,
   "id": "63587b34",
   "metadata": {},
   "outputs": [],
   "source": []
  }
 ],
 "metadata": {
  "kernelspec": {
   "display_name": "Python 3 (ipykernel)",
   "language": "python",
   "name": "python3"
  },
  "language_info": {
   "codemirror_mode": {
    "name": "ipython",
    "version": 3
   },
   "file_extension": ".py",
   "mimetype": "text/x-python",
   "name": "python",
   "nbconvert_exporter": "python",
   "pygments_lexer": "ipython3",
   "version": "3.9.7"
  }
 },
 "nbformat": 4,
 "nbformat_minor": 5
}
