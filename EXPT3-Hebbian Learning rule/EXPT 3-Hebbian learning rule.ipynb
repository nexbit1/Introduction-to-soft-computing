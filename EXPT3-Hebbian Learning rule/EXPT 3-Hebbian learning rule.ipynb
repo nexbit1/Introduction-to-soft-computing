{
 "cells": [
  {
   "cell_type": "code",
   "execution_count": 93,
   "id": "3d9e2f77",
   "metadata": {},
   "outputs": [],
   "source": [
    "import numpy as np"
   ]
  },
  {
   "cell_type": "code",
   "execution_count": 94,
   "id": "6bfa1a17",
   "metadata": {},
   "outputs": [],
   "source": [
    "def signum(x):\n",
    "    if x >= 0:\n",
    "        return 1\n",
    "    else:\n",
    "        return -1"
   ]
  },
  {
   "cell_type": "code",
   "execution_count": 95,
   "id": "31cd4965",
   "metadata": {},
   "outputs": [
    {
     "name": "stdout",
     "output_type": "stream",
     "text": [
      "Training Inputs:\n",
      " [[ 1.  -2.   1.5  0. ]\n",
      " [ 1.  -0.5 -2.  -1.5]\n",
      " [ 0.   1.  -1.   1.5]]\n",
      "Initial weights:\n",
      " [ 1.  -1.   0.   0.5]\n"
     ]
    }
   ],
   "source": [
    "training_input = np.array([[1,-2,1.5,0],[1,-0.5,-2,-1.5],[0,1,-1,1.5]])\n",
    "weights = np.array([1,-1,0,0.5])\n",
    "print('Training Inputs:\\n', training_input)\n",
    "print('Initial weights:\\n', weights)"
   ]
  },
  {
   "cell_type": "code",
   "execution_count": 96,
   "id": "6e6af53f",
   "metadata": {},
   "outputs": [
    {
     "name": "stdout",
     "output_type": "stream",
     "text": [
      "ITERATION 0: [ 1.  -3.5  4.5  0.5]\n",
      "ITERATION 1: [ 1.  -6.   9.   0.5]\n",
      "ITERATION 2: [ 1.  -8.5 13.5  0.5]\n",
      "ITERATION 3: [  1.  -11.   18.    0.5]\n",
      "ITERATION 4: [  1.  -13.5  22.5   0.5]\n",
      "ITERATION 5: [  1.  -16.   27.    0.5]\n",
      "ITERATION 6: [  1.  -18.5  31.5   0.5]\n",
      "ITERATION 7: [  1.  -21.   36.    0.5]\n",
      "ITERATION 8: [  1.  -23.5  40.5   0.5]\n",
      "ITERATION 9: [  1.  -26.   45.    0.5]\n"
     ]
    }
   ],
   "source": [
    "c = 1\n",
    "for count in range(0,10): #for 10 iteration, 1 iteration weight update 3 times(3 inputs😃)\n",
    "    for i in training_input:\n",
    "        fnet = signum(np.dot(i,weights))\n",
    "        del_w = np.dot(i, c*fnet)\n",
    "        weights += del_w\n",
    "    print(f'ITERATION {count}:', weights)\n",
    "    "
   ]
  },
  {
   "cell_type": "code",
   "execution_count": 107,
   "id": "a27f3ded",
   "metadata": {},
   "outputs": [
    {
     "name": "stdout",
     "output_type": "stream",
     "text": [
      "Random initial weight:\n",
      " [[0.7 0.6 0.2 0.8]]\n",
      "ITERATION 0: [[-1.3  4.1 -0.3  3.8]]\n",
      "ITERATION 1: [[-3.3  7.6 -0.8  6.8]]\n",
      "ITERATION 2: [[-5.3 11.1 -1.3  9.8]]\n",
      "ITERATION 3: [[-7.3 14.6 -1.8 12.8]]\n",
      "ITERATION 4: [[-9.3 18.1 -2.3 15.8]]\n",
      "ITERATION 5: [[-11.3  21.6  -2.8  18.8]]\n",
      "ITERATION 6: [[-13.3  25.1  -3.3  21.8]]\n",
      "ITERATION 7: [[-15.3  28.6  -3.8  24.8]]\n",
      "ITERATION 8: [[-17.3  32.1  -4.3  27.8]]\n",
      "ITERATION 9: [[-19.3  35.6  -4.8  30.8]]\n"
     ]
    }
   ],
   "source": [
    "#randomised weights\n",
    "weights = np.random.rand(1, 4).round(1)\n",
    "print('Random initial weight:\\n', weights)\n",
    "c = 1\n",
    "for count in range(0,10): #for 10 iteration, 1 iteration weight update 3 times(3 inputs😃)\n",
    "    for i in training_input:\n",
    "        fnet = signum(np.dot(i,weights[0])) #[[]]🤔\n",
    "        del_w = np.dot(i, c*fnet)\n",
    "        weights += del_w\n",
    "    print(f'ITERATION {count}:', weights)"
   ]
  },
  {
   "cell_type": "code",
   "execution_count": null,
   "id": "85dfa9c5",
   "metadata": {},
   "outputs": [],
   "source": []
  }
 ],
 "metadata": {
  "kernelspec": {
   "display_name": "Python 3 (ipykernel)",
   "language": "python",
   "name": "python3"
  },
  "language_info": {
   "codemirror_mode": {
    "name": "ipython",
    "version": 3
   },
   "file_extension": ".py",
   "mimetype": "text/x-python",
   "name": "python",
   "nbconvert_exporter": "python",
   "pygments_lexer": "ipython3",
   "version": "3.9.7"
  }
 },
 "nbformat": 4,
 "nbformat_minor": 5
}
