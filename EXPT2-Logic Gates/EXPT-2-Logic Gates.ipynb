{
 "cells": [
  {
   "cell_type": "code",
   "execution_count": 1,
   "id": "ef724769",
   "metadata": {},
   "outputs": [],
   "source": [
    "import numpy as np"
   ]
  },
  {
   "cell_type": "code",
   "execution_count": 15,
   "id": "a0d025da",
   "metadata": {},
   "outputs": [],
   "source": [
    "array = [(0, 0), (0, 1), (1, 0), (1, 1)]\n",
    "\n",
    "def unipolar(f):\n",
    "    if f >= 0:\n",
    "        return 1\n",
    "    else:\n",
    "        return 0\n",
    "\n",
    "def net(x, w, b):\n",
    "    f = np.dot(x, w) + b\n",
    "    y = unipolar(f)\n",
    "    return y\n"
   ]
  },
  {
   "cell_type": "code",
   "execution_count": 16,
   "id": "9c79d4d5",
   "metadata": {},
   "outputs": [
    {
     "name": "stdout",
     "output_type": "stream",
     "text": [
      "INPUT:[(0, 0)] ==> OUTPUT:0\n",
      "INPUT:[(0, 1)] ==> OUTPUT:1\n",
      "INPUT:[(1, 0)] ==> OUTPUT:1\n",
      "INPUT:[(1, 1)] ==> OUTPUT:1\n"
     ]
    }
   ],
   "source": [
    "#OR LOGIC\n",
    "def orgate(x):\n",
    "    w = np.array([1, 1])\n",
    "    b = -1\n",
    "    return net(x, w, b)\n",
    "for i in array:\n",
    "    print(f'INPUT:[{i}] ==> OUTPUT:{orgate(i)}')"
   ]
  },
  {
   "cell_type": "code",
   "execution_count": 17,
   "id": "def62f84",
   "metadata": {},
   "outputs": [
    {
     "name": "stdout",
     "output_type": "stream",
     "text": [
      "INPUT:[(0, 0)] ==> OUTPUT:0\n",
      "INPUT:[(0, 1)] ==> OUTPUT:0\n",
      "INPUT:[(1, 0)] ==> OUTPUT:0\n",
      "INPUT:[(1, 1)] ==> OUTPUT:1\n"
     ]
    }
   ],
   "source": [
    "#AND LOGIC\n",
    "def andgate(x):\n",
    "    w = np.array([1, 1])\n",
    "    b = -2\n",
    "    return net(x, w, b)\n",
    "for i in array:\n",
    "    print(f'INPUT:[{i}] ==> OUTPUT:{andgate(i)}')"
   ]
  },
  {
   "cell_type": "code",
   "execution_count": 18,
   "id": "a78ec242",
   "metadata": {},
   "outputs": [
    {
     "name": "stdout",
     "output_type": "stream",
     "text": [
      "INPUT:[0] ==> OUTPUT:1\n",
      "INPUT:[1] ==> OUTPUT:0\n"
     ]
    }
   ],
   "source": [
    "#NOT LOGIC\n",
    "array_not = [0, 1]\n",
    "def notgate(x):\n",
    "    w = np.array([-1])\n",
    "    b = 0\n",
    "    return net(x, w, b)\n",
    "for i in array_not:\n",
    "    print(f'INPUT:[{i}] ==> OUTPUT:{notgate(i)}')"
   ]
  },
  {
   "cell_type": "code",
   "execution_count": 31,
   "id": "b1a0edb9",
   "metadata": {},
   "outputs": [
    {
     "name": "stdout",
     "output_type": "stream",
     "text": [
      "INPUT:[(0, 0)] ==> OUTPUT:1\n",
      "INPUT:[(0, 1)] ==> OUTPUT:1\n",
      "INPUT:[(1, 0)] ==> OUTPUT:1\n",
      "INPUT:[(1, 1)] ==> OUTPUT:0\n"
     ]
    }
   ],
   "source": [
    "#NAND LOGIC\n",
    "def nandgate(x):\n",
    "    w = np.array([-1, -1])\n",
    "    b = 1\n",
    "    return net(x, w, b)\n",
    "for i in array:\n",
    "    print(f'INPUT:[{i}] ==> OUTPUT:{nandgate(i)}')  "
   ]
  },
  {
   "cell_type": "code",
   "execution_count": 29,
   "id": "70939525",
   "metadata": {},
   "outputs": [
    {
     "name": "stdout",
     "output_type": "stream",
     "text": [
      "INPUT:[(0, 0)] ==> OUTPUT:1\n",
      "INPUT:[(0, 1)] ==> OUTPUT:0\n",
      "INPUT:[(1, 0)] ==> OUTPUT:0\n",
      "INPUT:[(1, 1)] ==> OUTPUT:0\n"
     ]
    }
   ],
   "source": [
    "#NOR LOGIC\n",
    "def norgate(x):\n",
    "    w = np.array([-1, -1])\n",
    "    b = 0\n",
    "    return net(x, w, b)\n",
    "for i in array:\n",
    "    print(f'INPUT:[{i}] ==> OUTPUT:{norgate(i)}') "
   ]
  },
  {
   "cell_type": "code",
   "execution_count": null,
   "id": "1d2b9931",
   "metadata": {},
   "outputs": [],
   "source": []
  }
 ],
 "metadata": {
  "kernelspec": {
   "display_name": "Python 3 (ipykernel)",
   "language": "python",
   "name": "python3"
  },
  "language_info": {
   "codemirror_mode": {
    "name": "ipython",
    "version": 3
   },
   "file_extension": ".py",
   "mimetype": "text/x-python",
   "name": "python",
   "nbconvert_exporter": "python",
   "pygments_lexer": "ipython3",
   "version": "3.9.7"
  }
 },
 "nbformat": 4,
 "nbformat_minor": 5
}
