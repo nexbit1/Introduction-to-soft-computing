{
 "cells": [
  {
   "cell_type": "code",
   "execution_count": 89,
   "id": "cc55abb7",
   "metadata": {},
   "outputs": [],
   "source": [
    "import numpy as np"
   ]
  },
  {
   "cell_type": "code",
   "execution_count": 90,
   "id": "196abad0",
   "metadata": {},
   "outputs": [
    {
     "name": "stdout",
     "output_type": "stream",
     "text": [
      "Training Inputs:\n",
      " [[ 1.  -2.   0.  -1. ]\n",
      " [ 0.   1.5 -0.5 -1. ]\n",
      " [-1.   1.   0.5 -1. ]]\n",
      "Initial weights:\n",
      " [ 1.  -1.   0.   0.5]\n",
      "d:\n",
      " [-1 -1  1]\n"
     ]
    }
   ],
   "source": [
    "training_inputs = np.array([[1, -2, 0, -1], [0, 1.5, -0.5, -1], [-1, 1, 0.5, -1]])\n",
    "weights = np.array([1, -1, 0, 0.5])  #np.random.rand(x, no. of columns)for decimal numbers(no -ve)\n",
    "d = np.array([-1, -1, 1])            #np.random.randint(-x, x, no. of colums)for integers\n",
    "print('Training Inputs:\\n', training_inputs)\n",
    "print('Initial weights:\\n', weights)\n",
    "print('d:\\n', d)"
   ]
  },
  {
   "cell_type": "code",
   "execution_count": 91,
   "id": "4f3493ec",
   "metadata": {},
   "outputs": [],
   "source": [
    "def bipolar_sigmoid(net):\n",
    "    return round((1 - np.exp(-net)) / (1 + np.exp(-net)), 3)\n",
    "\n",
    "def fnet_(x):#for bipolar_sigmoid          #for unipolar_sigmoid x(1-x)\n",
    "    return round(((1 - x ** 2) / 2), 3)"
   ]
  },
  {
   "cell_type": "code",
   "execution_count": 92,
   "id": "3109755e",
   "metadata": {
    "scrolled": true
   },
   "outputs": [
    {
     "name": "stdout",
     "output_type": "stream",
     "text": [
      "ITERATION 1: [ 0.9474045  -0.9296748   0.01607585  0.5045767 ]\n",
      "ITERATION 2: [ 0.8878911  -0.8497524   0.03403005  0.5114493 ]\n"
     ]
    }
   ],
   "source": [
    "c = 0.1\n",
    "for count in range(2):\n",
    "    for i in range(len(training_inputs)): #0r do enumerate or zip from iterablemodule😉\n",
    "        fnet = bipolar_sigmoid(np.dot(training_inputs[i], weights))\n",
    "        fnet__ = fnet_(fnet)\n",
    "        del_w = c * fnet__ * np.dot(training_inputs[i],d[i]-fnet)\n",
    "        weights += del_w\n",
    "    print(f'ITERATION {count + 1}:', weights)       "
   ]
  }
 ],
 "metadata": {
  "kernelspec": {
   "display_name": "Python 3 (ipykernel)",
   "language": "python",
   "name": "python3"
  },
  "language_info": {
   "codemirror_mode": {
    "name": "ipython",
    "version": 3
   },
   "file_extension": ".py",
   "mimetype": "text/x-python",
   "name": "python",
   "nbconvert_exporter": "python",
   "pygments_lexer": "ipython3",
   "version": "3.9.7"
  }
 },
 "nbformat": 4,
 "nbformat_minor": 5
}
