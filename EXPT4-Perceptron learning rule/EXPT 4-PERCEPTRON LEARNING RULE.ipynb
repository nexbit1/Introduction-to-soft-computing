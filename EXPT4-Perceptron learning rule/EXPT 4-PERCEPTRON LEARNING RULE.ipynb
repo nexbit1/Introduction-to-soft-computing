{
 "cells": [
  {
   "cell_type": "code",
   "execution_count": 74,
   "id": "6e9cff21",
   "metadata": {},
   "outputs": [],
   "source": [
    "import numpy as np"
   ]
  },
  {
   "cell_type": "code",
   "execution_count": 75,
   "id": "b9601fef",
   "metadata": {},
   "outputs": [],
   "source": [
    "def signum(x):\n",
    "    return -1 if x < 0 else 1"
   ]
  },
  {
   "cell_type": "code",
   "execution_count": 76,
   "id": "a718e44c",
   "metadata": {},
   "outputs": [
    {
     "name": "stdout",
     "output_type": "stream",
     "text": [
      "training inputs:\n",
      " [[ 2  1  1]\n",
      " [ 0 -1 -1]]\n",
      "initial weights:\n",
      " [0 1 0]\n",
      "d:\n",
      " [-1  1]\n"
     ]
    }
   ],
   "source": [
    "training_input = np.array([[2, 1, 1], [0, -1, -1]])\n",
    "weights = np.array([0, 1, 0])\n",
    "d = np.array([-1, 1])\n",
    "print('training inputs:\\n',training_input)\n",
    "print('initial weights:\\n',weights)\n",
    "print('d:\\n', d)"
   ]
  },
  {
   "cell_type": "code",
   "execution_count": 77,
   "id": "1b37bc92",
   "metadata": {},
   "outputs": [
    {
     "name": "stdout",
     "output_type": "stream",
     "text": [
      "ITERATION 0: [ 0 -1 -2]\n",
      "ITERATION 1: [ 4 -1 -2]\n",
      "ITERATION 2: [ 4 -1 -2]\n",
      "ITERATION 3: [ 4 -1 -2]\n",
      "ITERATION 4: [ 4 -1 -2]\n",
      "ITERATION 5: [ 4 -1 -2]\n",
      "ITERATION 6: [ 4 -1 -2]\n",
      "ITERATION 7: [ 4 -1 -2]\n",
      "ITERATION 8: [ 4 -1 -2]\n",
      "ITERATION 9: [ 4 -1 -2]\n"
     ]
    }
   ],
   "source": [
    "c =1\n",
    "for count in range(10):\n",
    "    for i in training_input:\n",
    "        fnet = signum(np.dot(i, weights))\n",
    "        for j in d:\n",
    "            del_w = np.dot(i, j - fnet)\n",
    "        weights += del_w\n",
    "    print(f'ITERATION {count}:', weights)\n",
    "    "
   ]
  },
  {
   "cell_type": "code",
   "execution_count": 80,
   "id": "7e84dffd",
   "metadata": {},
   "outputs": [
    {
     "name": "stdout",
     "output_type": "stream",
     "text": [
      "random initial weights:\n",
      " [0 1 0]\n"
     ]
    }
   ],
   "source": [
    "#FOR RANDOM WEIGHTS\n",
    "weights = np.random.randint(0, 2, 3) \n",
    "#if decimal then use rand(but gives double brackets🤧, then just do weight[0]😃)\n",
    "print('random initial weights:\\n',weights)"
   ]
  },
  {
   "cell_type": "code",
   "execution_count": 81,
   "id": "04e425dc",
   "metadata": {},
   "outputs": [
    {
     "name": "stdout",
     "output_type": "stream",
     "text": [
      "ITERATION 0: [ 0 -1 -2]\n",
      "ITERATION 1: [ 4 -1 -2]\n",
      "ITERATION 2: [ 4 -1 -2]\n",
      "ITERATION 3: [ 4 -1 -2]\n",
      "ITERATION 4: [ 4 -1 -2]\n",
      "ITERATION 5: [ 4 -1 -2]\n",
      "ITERATION 6: [ 4 -1 -2]\n",
      "ITERATION 7: [ 4 -1 -2]\n",
      "ITERATION 8: [ 4 -1 -2]\n",
      "ITERATION 9: [ 4 -1 -2]\n"
     ]
    }
   ],
   "source": [
    "c =1\n",
    "for count in range(10):\n",
    "    for i in training_input:\n",
    "        fnet = signum(np.dot(i, weights))\n",
    "        for j in d:\n",
    "            del_w = np.dot(i, j - fnet)\n",
    "        weights += del_w\n",
    "    print(f'ITERATION {count}:', weights)\n",
    "    "
   ]
  },
  {
   "cell_type": "code",
   "execution_count": null,
   "id": "023037f6",
   "metadata": {},
   "outputs": [],
   "source": []
  }
 ],
 "metadata": {
  "kernelspec": {
   "display_name": "Python 3 (ipykernel)",
   "language": "python",
   "name": "python3"
  },
  "language_info": {
   "codemirror_mode": {
    "name": "ipython",
    "version": 3
   },
   "file_extension": ".py",
   "mimetype": "text/x-python",
   "name": "python",
   "nbconvert_exporter": "python",
   "pygments_lexer": "ipython3",
   "version": "3.9.7"
  }
 },
 "nbformat": 4,
 "nbformat_minor": 5
}
