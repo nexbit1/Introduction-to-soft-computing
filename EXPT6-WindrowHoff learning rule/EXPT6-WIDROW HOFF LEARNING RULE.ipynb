{
 "cells": [
  {
   "cell_type": "code",
   "execution_count": 28,
   "id": "3f2171ff",
   "metadata": {},
   "outputs": [],
   "source": [
    "import numpy as np"
   ]
  },
  {
   "cell_type": "code",
   "execution_count": 29,
   "id": "8b39037b",
   "metadata": {},
   "outputs": [
    {
     "name": "stdout",
     "output_type": "stream",
     "text": [
      "Training Inputs:\n",
      " [[ 2  0  1]\n",
      " [ 2 -2  1]\n",
      " [ 1 -2 -1]]\n",
      "Initial weights:\n",
      " [1 0 1]\n",
      "d:\n",
      " [-1  1  1]\n"
     ]
    }
   ],
   "source": [
    "training_inputs = np.array([[2, 0 , 1], [2, -2, 1], [1, -2, -1]])\n",
    "weights = np.array([1, 0, 1]) #np.random.rand(1,3)\n",
    "d = np.array([-1, 1, 1])\n",
    "print('Training Inputs:\\n', training_inputs)\n",
    "print('Initial weights:\\n', weights)\n",
    "print('d:\\n', d)"
   ]
  },
  {
   "cell_type": "code",
   "execution_count": 30,
   "id": "14cce891",
   "metadata": {},
   "outputs": [
    {
     "name": "stdout",
     "output_type": "stream",
     "text": [
      "[-4.  0. -2.]\n",
      "[ 8. -8.  4.]\n",
      "[-8.5 17.   8.5]\n",
      "ITERATION 1: [-3  9 11]\n",
      "[-6.  0. -3.]\n",
      "[ 29.  -29.   14.5]\n",
      "[-18.5  37.   18.5]\n",
      "ITERATION 2: [ 1 17 40]\n"
     ]
    }
   ],
   "source": [
    "c = 0.5\n",
    "for count in range(2):\n",
    "    for i in range(len(training_inputs)):\n",
    "        net = np.dot(training_inputs[i], weights)\n",
    "        del_w = c * np.dot(training_inputs[i], d[i] - net)\n",
    "        print(del_w)\n",
    "        weights = np.add(weights, del_w, out=weights, casting=\"unsafe\")#stackoverflowOP😍\n",
    "        #weights += del_w(here weights are integers, del_w is float, different dstatype cant't be added )\n",
    "    print(f'ITERATION {count + 1}:', weights)       "
   ]
  }
 ],
 "metadata": {
  "kernelspec": {
   "display_name": "Python 3 (ipykernel)",
   "language": "python",
   "name": "python3"
  },
  "language_info": {
   "codemirror_mode": {
    "name": "ipython",
    "version": 3
   },
   "file_extension": ".py",
   "mimetype": "text/x-python",
   "name": "python",
   "nbconvert_exporter": "python",
   "pygments_lexer": "ipython3",
   "version": "3.9.7"
  }
 },
 "nbformat": 4,
 "nbformat_minor": 5
}
